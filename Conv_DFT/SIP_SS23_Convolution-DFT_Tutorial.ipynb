{
 "cells": [
  {
   "cell_type": "markdown",
   "id": "7a03fdda",
   "metadata": {},
   "source": [
    "# Signal and Image Processing (SIP_SS23)\n",
    "\n",
    "### Research Group Neuroinformatics, Faculty of Computer Science,\n",
    "### University of Vienna\n",
    "\n",
    "\n",
    "###  Convolution and Discrete Fourier Transform Tutorial\n",
    "\n",
    "Lecturer: Prof. Moritz GROSSE-WENTRUP\n",
    "\n",
    "Tutorial by: Sadiq A. ADEDAYO\n",
    "$\\quad\\quad\\quad\\quad$ Jakob PRAGER <jakob.prager@univie.ac.at>\n",
    "\n"
   ]
  },
  {
   "cell_type": "code",
   "execution_count": 7,
   "id": "7ae4af5a",
   "metadata": {
    "ExecuteTime": {
     "start_time": "2023-10-16T15:46:00.210719Z",
     "end_time": "2023-10-16T15:46:00.219718Z"
    }
   },
   "outputs": [],
   "source": [
    "# imports packages required (Numpy and Matplotlib)\n",
    "\n",
    "import numpy as np\n",
    "import matplotlib.pyplot as plt"
   ]
  },
  {
   "cell_type": "markdown",
   "id": "fba0ee73",
   "metadata": {},
   "source": []
  },
  {
   "cell_type": "markdown",
   "id": "ae4a99d1",
   "metadata": {},
   "source": [
    "## 1 - Discrete Fourier Transform (DFT)"
   ]
  },
  {
   "cell_type": "markdown",
   "id": "290b3e18",
   "metadata": {},
   "source": [
    "You learned about analysis (DFT) and synthesis (iDFT) from the video lectures. We have introduced that DFT allows us to change the domain of a signal from time to frequency while iDFT does the reverse. \n",
    "\n",
    "In this exercise, we will implement this and see how the concept works.\n",
    "\n",
    "Recall,\n",
    "\n",
    "Discrete Fourier Transform (Analysis); $$X(k) = \\sum_{n=0}^{N-1} x[n] \\exp \\left( {-j.\\frac{ 2\\pi k}{N}. n} \\right)$$\n",
    "\n",
    "\n",
    "inverse Discrete Fourier Transform (Synthesis); $$x[n] = \\frac{1}{N} \\sum_{k=0}^{N-1} X(k) \\exp \\left( {j.\\frac{ 2\\pi k}{N}. n} \\right)$$"
   ]
  },
  {
   "cell_type": "markdown",
   "id": "70541123",
   "metadata": {},
   "source": [
    "### Trigonometric signals\n",
    "\n",
    "Before we dive into DFT, it is important to understand the concept of signal oscillations.\n",
    "\n",
    "\n",
    "Take for instance, a sine signal as defined by; \n",
    "$$x[n] = A sin\\left( \\frac{2 \\pi k}{N}. n  \\right)$$ \n",
    "\n",
    "where\n",
    "\n",
    "- A is the amplitude \n",
    "- k is the frequency of oscillations per second measure in $s^{-1}$ or Hz.\n",
    "\n",
    "Intuitively, k is the number of complete periods within N. i.e. if the signal is 1 second long, then k is the frequency.\n",
    "- N is the signal length. Mathematically; N = $f_{s}$ * T  where $f_{s}$ and `T` are the sampling frequency and period respectively.\n",
    "\n",
    "\n",
    "When N = $f_{s}$ * T and T = 1, the formular then becomes;\n",
    "\n",
    "$$x[n] = A sin \\left(\\frac{2 \\pi k}{f_{s}}. n \\right)$$\n",
    "\n",
    "\n",
    "Oftentimes, Amplitude `A` is not given in the signal equation, this indicates that it is unity (1). Hence\n",
    "\n",
    "$$x[n] = sin\\left( \\frac{2 \\pi k}{f_{s}}. n  \\right)$$"
   ]
  },
  {
   "cell_type": "code",
   "execution_count": 2,
   "id": "75bf41bf",
   "metadata": {
    "ExecuteTime": {
     "start_time": "2023-10-16T14:50:07.064122Z",
     "end_time": "2023-10-16T14:50:07.076114Z"
    }
   },
   "outputs": [],
   "source": [
    "# generate sine signals s1 and s2\n",
    "\n",
    "N = 1000 # in this case we use 1 second long signal of length N\n",
    "n = np.arange(N)\n",
    "\n",
    "k1 = 1  # for s1 \n",
    "k2 = 50 # for s2\n",
    "\n",
    "s1 = ...\n",
    "s2 = ..."
   ]
  },
  {
   "cell_type": "code",
   "execution_count": 3,
   "id": "cabd4f5d",
   "metadata": {},
   "outputs": [
    {
     "ename": "TypeError",
     "evalue": "float() argument must be a string or a number, not 'ellipsis'",
     "output_type": "error",
     "traceback": [
      "\u001B[1;31m---------------------------------------------------------------------------\u001B[0m",
      "\u001B[1;31mTypeError\u001B[0m                                 Traceback (most recent call last)",
      "\u001B[1;32m~\\AppData\\Local\\Temp/ipykernel_11320/2294647902.py\u001B[0m in \u001B[0;36m<module>\u001B[1;34m\u001B[0m\n\u001B[0;32m      2\u001B[0m \u001B[1;33m\u001B[0m\u001B[0m\n\u001B[0;32m      3\u001B[0m \u001B[0mfig\u001B[0m\u001B[1;33m,\u001B[0m \u001B[0max\u001B[0m \u001B[1;33m=\u001B[0m \u001B[0mplt\u001B[0m\u001B[1;33m.\u001B[0m\u001B[0msubplots\u001B[0m\u001B[1;33m(\u001B[0m\u001B[1;36m2\u001B[0m\u001B[1;33m,\u001B[0m\u001B[1;36m1\u001B[0m\u001B[1;33m)\u001B[0m\u001B[1;33m\u001B[0m\u001B[1;33m\u001B[0m\u001B[0m\n\u001B[1;32m----> 4\u001B[1;33m \u001B[0max\u001B[0m\u001B[1;33m[\u001B[0m\u001B[1;36m0\u001B[0m\u001B[1;33m]\u001B[0m\u001B[1;33m.\u001B[0m\u001B[0mplot\u001B[0m\u001B[1;33m(\u001B[0m\u001B[1;33m...\u001B[0m\u001B[1;33m)\u001B[0m\u001B[1;33m\u001B[0m\u001B[1;33m\u001B[0m\u001B[0m\n\u001B[0m\u001B[0;32m      5\u001B[0m \u001B[0max\u001B[0m\u001B[1;33m[\u001B[0m\u001B[1;36m0\u001B[0m\u001B[1;33m]\u001B[0m\u001B[1;33m.\u001B[0m\u001B[0mgrid\u001B[0m\u001B[1;33m(\u001B[0m\u001B[1;33m)\u001B[0m\u001B[1;33m\u001B[0m\u001B[1;33m\u001B[0m\u001B[0m\n\u001B[0;32m      6\u001B[0m \u001B[0max\u001B[0m\u001B[1;33m[\u001B[0m\u001B[1;36m0\u001B[0m\u001B[1;33m]\u001B[0m\u001B[1;33m.\u001B[0m\u001B[0mset_xlabel\u001B[0m\u001B[1;33m(\u001B[0m\u001B[1;34m'n'\u001B[0m\u001B[1;33m)\u001B[0m\u001B[1;33m\u001B[0m\u001B[1;33m\u001B[0m\u001B[0m\n",
      "\u001B[1;32m~\\anaconda3\\envs\\ml\\lib\\site-packages\\matplotlib\\axes\\_axes.py\u001B[0m in \u001B[0;36mplot\u001B[1;34m(self, scalex, scaley, data, *args, **kwargs)\u001B[0m\n\u001B[0;32m   1605\u001B[0m         \u001B[0mlines\u001B[0m \u001B[1;33m=\u001B[0m \u001B[1;33m[\u001B[0m\u001B[1;33m*\u001B[0m\u001B[0mself\u001B[0m\u001B[1;33m.\u001B[0m\u001B[0m_get_lines\u001B[0m\u001B[1;33m(\u001B[0m\u001B[1;33m*\u001B[0m\u001B[0margs\u001B[0m\u001B[1;33m,\u001B[0m \u001B[0mdata\u001B[0m\u001B[1;33m=\u001B[0m\u001B[0mdata\u001B[0m\u001B[1;33m,\u001B[0m \u001B[1;33m**\u001B[0m\u001B[0mkwargs\u001B[0m\u001B[1;33m)\u001B[0m\u001B[1;33m]\u001B[0m\u001B[1;33m\u001B[0m\u001B[1;33m\u001B[0m\u001B[0m\n\u001B[0;32m   1606\u001B[0m         \u001B[1;32mfor\u001B[0m \u001B[0mline\u001B[0m \u001B[1;32min\u001B[0m \u001B[0mlines\u001B[0m\u001B[1;33m:\u001B[0m\u001B[1;33m\u001B[0m\u001B[1;33m\u001B[0m\u001B[0m\n\u001B[1;32m-> 1607\u001B[1;33m             \u001B[0mself\u001B[0m\u001B[1;33m.\u001B[0m\u001B[0madd_line\u001B[0m\u001B[1;33m(\u001B[0m\u001B[0mline\u001B[0m\u001B[1;33m)\u001B[0m\u001B[1;33m\u001B[0m\u001B[1;33m\u001B[0m\u001B[0m\n\u001B[0m\u001B[0;32m   1608\u001B[0m         \u001B[0mself\u001B[0m\u001B[1;33m.\u001B[0m\u001B[0m_request_autoscale_view\u001B[0m\u001B[1;33m(\u001B[0m\u001B[0mscalex\u001B[0m\u001B[1;33m=\u001B[0m\u001B[0mscalex\u001B[0m\u001B[1;33m,\u001B[0m \u001B[0mscaley\u001B[0m\u001B[1;33m=\u001B[0m\u001B[0mscaley\u001B[0m\u001B[1;33m)\u001B[0m\u001B[1;33m\u001B[0m\u001B[1;33m\u001B[0m\u001B[0m\n\u001B[0;32m   1609\u001B[0m         \u001B[1;32mreturn\u001B[0m \u001B[0mlines\u001B[0m\u001B[1;33m\u001B[0m\u001B[1;33m\u001B[0m\u001B[0m\n",
      "\u001B[1;32m~\\anaconda3\\envs\\ml\\lib\\site-packages\\matplotlib\\axes\\_base.py\u001B[0m in \u001B[0;36madd_line\u001B[1;34m(self, line)\u001B[0m\n\u001B[0;32m   2099\u001B[0m             \u001B[0mline\u001B[0m\u001B[1;33m.\u001B[0m\u001B[0mset_clip_path\u001B[0m\u001B[1;33m(\u001B[0m\u001B[0mself\u001B[0m\u001B[1;33m.\u001B[0m\u001B[0mpatch\u001B[0m\u001B[1;33m)\u001B[0m\u001B[1;33m\u001B[0m\u001B[1;33m\u001B[0m\u001B[0m\n\u001B[0;32m   2100\u001B[0m \u001B[1;33m\u001B[0m\u001B[0m\n\u001B[1;32m-> 2101\u001B[1;33m         \u001B[0mself\u001B[0m\u001B[1;33m.\u001B[0m\u001B[0m_update_line_limits\u001B[0m\u001B[1;33m(\u001B[0m\u001B[0mline\u001B[0m\u001B[1;33m)\u001B[0m\u001B[1;33m\u001B[0m\u001B[1;33m\u001B[0m\u001B[0m\n\u001B[0m\u001B[0;32m   2102\u001B[0m         \u001B[1;32mif\u001B[0m \u001B[1;32mnot\u001B[0m \u001B[0mline\u001B[0m\u001B[1;33m.\u001B[0m\u001B[0mget_label\u001B[0m\u001B[1;33m(\u001B[0m\u001B[1;33m)\u001B[0m\u001B[1;33m:\u001B[0m\u001B[1;33m\u001B[0m\u001B[1;33m\u001B[0m\u001B[0m\n\u001B[0;32m   2103\u001B[0m             \u001B[0mline\u001B[0m\u001B[1;33m.\u001B[0m\u001B[0mset_label\u001B[0m\u001B[1;33m(\u001B[0m\u001B[1;34m'_line%d'\u001B[0m \u001B[1;33m%\u001B[0m \u001B[0mlen\u001B[0m\u001B[1;33m(\u001B[0m\u001B[0mself\u001B[0m\u001B[1;33m.\u001B[0m\u001B[0mlines\u001B[0m\u001B[1;33m)\u001B[0m\u001B[1;33m)\u001B[0m\u001B[1;33m\u001B[0m\u001B[1;33m\u001B[0m\u001B[0m\n",
      "\u001B[1;32m~\\anaconda3\\envs\\ml\\lib\\site-packages\\matplotlib\\axes\\_base.py\u001B[0m in \u001B[0;36m_update_line_limits\u001B[1;34m(self, line)\u001B[0m\n\u001B[0;32m   2121\u001B[0m         \u001B[0mFigures\u001B[0m \u001B[0mout\u001B[0m \u001B[0mthe\u001B[0m \u001B[0mdata\u001B[0m \u001B[0mlimit\u001B[0m \u001B[0mof\u001B[0m \u001B[0mthe\u001B[0m \u001B[0mgiven\u001B[0m \u001B[0mline\u001B[0m\u001B[1;33m,\u001B[0m \u001B[0mupdating\u001B[0m \u001B[0mself\u001B[0m\u001B[1;33m.\u001B[0m\u001B[0mdataLim\u001B[0m\u001B[1;33m.\u001B[0m\u001B[1;33m\u001B[0m\u001B[1;33m\u001B[0m\u001B[0m\n\u001B[0;32m   2122\u001B[0m         \"\"\"\n\u001B[1;32m-> 2123\u001B[1;33m         \u001B[0mpath\u001B[0m \u001B[1;33m=\u001B[0m \u001B[0mline\u001B[0m\u001B[1;33m.\u001B[0m\u001B[0mget_path\u001B[0m\u001B[1;33m(\u001B[0m\u001B[1;33m)\u001B[0m\u001B[1;33m\u001B[0m\u001B[1;33m\u001B[0m\u001B[0m\n\u001B[0m\u001B[0;32m   2124\u001B[0m         \u001B[1;32mif\u001B[0m \u001B[0mpath\u001B[0m\u001B[1;33m.\u001B[0m\u001B[0mvertices\u001B[0m\u001B[1;33m.\u001B[0m\u001B[0msize\u001B[0m \u001B[1;33m==\u001B[0m \u001B[1;36m0\u001B[0m\u001B[1;33m:\u001B[0m\u001B[1;33m\u001B[0m\u001B[1;33m\u001B[0m\u001B[0m\n\u001B[0;32m   2125\u001B[0m             \u001B[1;32mreturn\u001B[0m\u001B[1;33m\u001B[0m\u001B[1;33m\u001B[0m\u001B[0m\n",
      "\u001B[1;32m~\\anaconda3\\envs\\ml\\lib\\site-packages\\matplotlib\\lines.py\u001B[0m in \u001B[0;36mget_path\u001B[1;34m(self)\u001B[0m\n\u001B[0;32m   1020\u001B[0m         \"\"\"\n\u001B[0;32m   1021\u001B[0m         \u001B[1;32mif\u001B[0m \u001B[0mself\u001B[0m\u001B[1;33m.\u001B[0m\u001B[0m_invalidy\u001B[0m \u001B[1;32mor\u001B[0m \u001B[0mself\u001B[0m\u001B[1;33m.\u001B[0m\u001B[0m_invalidx\u001B[0m\u001B[1;33m:\u001B[0m\u001B[1;33m\u001B[0m\u001B[1;33m\u001B[0m\u001B[0m\n\u001B[1;32m-> 1022\u001B[1;33m             \u001B[0mself\u001B[0m\u001B[1;33m.\u001B[0m\u001B[0mrecache\u001B[0m\u001B[1;33m(\u001B[0m\u001B[1;33m)\u001B[0m\u001B[1;33m\u001B[0m\u001B[1;33m\u001B[0m\u001B[0m\n\u001B[0m\u001B[0;32m   1023\u001B[0m         \u001B[1;32mreturn\u001B[0m \u001B[0mself\u001B[0m\u001B[1;33m.\u001B[0m\u001B[0m_path\u001B[0m\u001B[1;33m\u001B[0m\u001B[1;33m\u001B[0m\u001B[0m\n\u001B[0;32m   1024\u001B[0m \u001B[1;33m\u001B[0m\u001B[0m\n",
      "\u001B[1;32m~\\anaconda3\\envs\\ml\\lib\\site-packages\\matplotlib\\lines.py\u001B[0m in \u001B[0;36mrecache\u001B[1;34m(self, always)\u001B[0m\n\u001B[0;32m    666\u001B[0m         \u001B[1;32mif\u001B[0m \u001B[0malways\u001B[0m \u001B[1;32mor\u001B[0m \u001B[0mself\u001B[0m\u001B[1;33m.\u001B[0m\u001B[0m_invalidy\u001B[0m\u001B[1;33m:\u001B[0m\u001B[1;33m\u001B[0m\u001B[1;33m\u001B[0m\u001B[0m\n\u001B[0;32m    667\u001B[0m             \u001B[0myconv\u001B[0m \u001B[1;33m=\u001B[0m \u001B[0mself\u001B[0m\u001B[1;33m.\u001B[0m\u001B[0mconvert_yunits\u001B[0m\u001B[1;33m(\u001B[0m\u001B[0mself\u001B[0m\u001B[1;33m.\u001B[0m\u001B[0m_yorig\u001B[0m\u001B[1;33m)\u001B[0m\u001B[1;33m\u001B[0m\u001B[1;33m\u001B[0m\u001B[0m\n\u001B[1;32m--> 668\u001B[1;33m             \u001B[0my\u001B[0m \u001B[1;33m=\u001B[0m \u001B[0m_to_unmasked_float_array\u001B[0m\u001B[1;33m(\u001B[0m\u001B[0myconv\u001B[0m\u001B[1;33m)\u001B[0m\u001B[1;33m.\u001B[0m\u001B[0mravel\u001B[0m\u001B[1;33m(\u001B[0m\u001B[1;33m)\u001B[0m\u001B[1;33m\u001B[0m\u001B[1;33m\u001B[0m\u001B[0m\n\u001B[0m\u001B[0;32m    669\u001B[0m         \u001B[1;32melse\u001B[0m\u001B[1;33m:\u001B[0m\u001B[1;33m\u001B[0m\u001B[1;33m\u001B[0m\u001B[0m\n\u001B[0;32m    670\u001B[0m             \u001B[0my\u001B[0m \u001B[1;33m=\u001B[0m \u001B[0mself\u001B[0m\u001B[1;33m.\u001B[0m\u001B[0m_y\u001B[0m\u001B[1;33m\u001B[0m\u001B[1;33m\u001B[0m\u001B[0m\n",
      "\u001B[1;32m~\\anaconda3\\envs\\ml\\lib\\site-packages\\matplotlib\\cbook\\__init__.py\u001B[0m in \u001B[0;36m_to_unmasked_float_array\u001B[1;34m(x)\u001B[0m\n\u001B[0;32m   1331\u001B[0m         \u001B[1;32mreturn\u001B[0m \u001B[0mnp\u001B[0m\u001B[1;33m.\u001B[0m\u001B[0mma\u001B[0m\u001B[1;33m.\u001B[0m\u001B[0masarray\u001B[0m\u001B[1;33m(\u001B[0m\u001B[0mx\u001B[0m\u001B[1;33m,\u001B[0m \u001B[0mfloat\u001B[0m\u001B[1;33m)\u001B[0m\u001B[1;33m.\u001B[0m\u001B[0mfilled\u001B[0m\u001B[1;33m(\u001B[0m\u001B[0mnp\u001B[0m\u001B[1;33m.\u001B[0m\u001B[0mnan\u001B[0m\u001B[1;33m)\u001B[0m\u001B[1;33m\u001B[0m\u001B[1;33m\u001B[0m\u001B[0m\n\u001B[0;32m   1332\u001B[0m     \u001B[1;32melse\u001B[0m\u001B[1;33m:\u001B[0m\u001B[1;33m\u001B[0m\u001B[1;33m\u001B[0m\u001B[0m\n\u001B[1;32m-> 1333\u001B[1;33m         \u001B[1;32mreturn\u001B[0m \u001B[0mnp\u001B[0m\u001B[1;33m.\u001B[0m\u001B[0masarray\u001B[0m\u001B[1;33m(\u001B[0m\u001B[0mx\u001B[0m\u001B[1;33m,\u001B[0m \u001B[0mfloat\u001B[0m\u001B[1;33m)\u001B[0m\u001B[1;33m\u001B[0m\u001B[1;33m\u001B[0m\u001B[0m\n\u001B[0m\u001B[0;32m   1334\u001B[0m \u001B[1;33m\u001B[0m\u001B[0m\n\u001B[0;32m   1335\u001B[0m \u001B[1;33m\u001B[0m\u001B[0m\n",
      "\u001B[1;31mTypeError\u001B[0m: float() argument must be a string or a number, not 'ellipsis'"
     ]
    },
    {
     "data": {
      "text/plain": "<Figure size 432x288 with 2 Axes>",
      "image/png": "[encoded data removed]"
     },
     "metadata": {
      "needs_background": "light"
     },
     "output_type": "display_data"
    }
   ],
   "source": [
    "# plot sine signals\n",
    "\n",
    "fig, ax = plt.subplots(2,1)\n",
    "ax[0].plot(...)\n",
    "ax[0].grid()\n",
    "ax[0].set_xlabel('n')\n",
    "ax[0].set_ylabel('$s_{1}[n]$', rotation=60)\n",
    "\n",
    "ax[1].plot(...)\n",
    "ax[1].grid()\n",
    "ax[1].set_xlabel('n')\n",
    "ax[1].set_ylabel('$s_{2}[n]$', rotation=60)"
   ]
  },
  {
   "cell_type": "code",
   "execution_count": null,
   "id": "7abe0664",
   "metadata": {},
   "outputs": [],
   "source": [
    "# carry out some operation on signals e.g. addition of two signals for instance\n",
    "k3, k4 =  5, 50 \n",
    "\n",
    "s3 = ... # note the amplitudes\n",
    "\n",
    "# plot\n",
    "..."
   ]
  },
  {
   "cell_type": "code",
   "execution_count": null,
   "id": "627c790a",
   "metadata": {},
   "outputs": [],
   "source": []
  },
  {
   "cell_type": "markdown",
   "id": "8dda61aa",
   "metadata": {},
   "source": [
    "Here the Amplitudes `A` differ in the mixture of the signals. It can be seen that the amplitudes of the two signals are added together across `n`."
   ]
  },
  {
   "cell_type": "code",
   "execution_count": null,
   "id": "d1084132",
   "metadata": {},
   "outputs": [],
   "source": []
  },
  {
   "cell_type": "markdown",
   "id": "fb220152",
   "metadata": {},
   "source": [
    "Implement both DFT and iDFT as functions."
   ]
  },
  {
   "cell_type": "code",
   "execution_count": null,
   "id": "e44a213c",
   "metadata": {},
   "outputs": [],
   "source": [
    "# DFT\n",
    "def DFT(x):\n",
    "    \"\"\"\n",
    "    input: signal x[n] in time domain\n",
    "    output: X(f) in frequency domain\n",
    "    \"\"\"\n",
    "    N = len(...)\n",
    "    n = np.arange(...)\n",
    "    F = ...   # hint: use np.outer(n,n) for the basis vectors\n",
    "    return np.dot(...)\n",
    "\n",
    "\n",
    "# inverse DFT\n",
    "def iDFT(X):\n",
    "    \"\"\"\n",
    "    input: signal X(f) in frequency domain\n",
    "    output: x[n] in time domain\n",
    "    \"\"\"\n",
    "    N = len(...)\n",
    "    n = np.arange(0,N)\n",
    "    IF = ...   # hint: use np.outer(n,n) for the basis vectors\n",
    "    return np.dot(...)"
   ]
  },
  {
   "cell_type": "code",
   "execution_count": null,
   "id": "829a56c0",
   "metadata": {},
   "outputs": [],
   "source": [
    "# application on signals generated above\n",
    "\n",
    "S1 = DFT(...)\n",
    "S2 = DFT(...)\n",
    "S3 = DFT(...)"
   ]
  },
  {
   "cell_type": "code",
   "execution_count": 4,
   "id": "de7f837d",
   "metadata": {},
   "outputs": [
    {
     "ename": "TypeError",
     "evalue": "float() argument must be a string or a number, not 'ellipsis'",
     "output_type": "error",
     "traceback": [
      "\u001B[1;31m---------------------------------------------------------------------------\u001B[0m",
      "\u001B[1;31mTypeError\u001B[0m                                 Traceback (most recent call last)",
      "\u001B[1;32m~\\AppData\\Local\\Temp/ipykernel_11320/2783158393.py\u001B[0m in \u001B[0;36m<module>\u001B[1;34m\u001B[0m\n\u001B[0;32m      5\u001B[0m \u001B[1;33m\u001B[0m\u001B[0m\n\u001B[0;32m      6\u001B[0m \u001B[0mfig\u001B[0m\u001B[1;33m,\u001B[0m \u001B[0max\u001B[0m \u001B[1;33m=\u001B[0m \u001B[0mplt\u001B[0m\u001B[1;33m.\u001B[0m\u001B[0msubplots\u001B[0m\u001B[1;33m(\u001B[0m\u001B[1;36m3\u001B[0m\u001B[1;33m,\u001B[0m \u001B[1;36m2\u001B[0m\u001B[1;33m,\u001B[0m \u001B[0mfigsize\u001B[0m\u001B[1;33m=\u001B[0m\u001B[1;33m(\u001B[0m\u001B[1;36m15\u001B[0m\u001B[1;33m,\u001B[0m\u001B[1;36m9\u001B[0m\u001B[1;33m)\u001B[0m\u001B[1;33m)\u001B[0m\u001B[1;33m\u001B[0m\u001B[1;33m\u001B[0m\u001B[0m\n\u001B[1;32m----> 7\u001B[1;33m \u001B[0max\u001B[0m\u001B[1;33m[\u001B[0m\u001B[1;36m0\u001B[0m\u001B[1;33m,\u001B[0m \u001B[1;36m0\u001B[0m\u001B[1;33m]\u001B[0m\u001B[1;33m.\u001B[0m\u001B[0mplot\u001B[0m\u001B[1;33m(\u001B[0m\u001B[1;33m...\u001B[0m\u001B[1;33m)\u001B[0m\u001B[1;33m\u001B[0m\u001B[1;33m\u001B[0m\u001B[0m\n\u001B[0m\u001B[0;32m      8\u001B[0m \u001B[0max\u001B[0m\u001B[1;33m[\u001B[0m\u001B[1;36m0\u001B[0m\u001B[1;33m,\u001B[0m \u001B[1;36m0\u001B[0m\u001B[1;33m]\u001B[0m\u001B[1;33m.\u001B[0m\u001B[0mgrid\u001B[0m\u001B[1;33m(\u001B[0m\u001B[1;33m)\u001B[0m\u001B[1;33m\u001B[0m\u001B[1;33m\u001B[0m\u001B[0m\n\u001B[0;32m      9\u001B[0m \u001B[0max\u001B[0m\u001B[1;33m[\u001B[0m\u001B[1;36m0\u001B[0m\u001B[1;33m,\u001B[0m \u001B[1;36m0\u001B[0m\u001B[1;33m]\u001B[0m\u001B[1;33m.\u001B[0m\u001B[0mset_title\u001B[0m\u001B[1;33m(\u001B[0m\u001B[1;34m'Amplitude'\u001B[0m\u001B[1;33m)\u001B[0m\u001B[1;33m\u001B[0m\u001B[1;33m\u001B[0m\u001B[0m\n",
      "\u001B[1;32m~\\anaconda3\\envs\\ml\\lib\\site-packages\\matplotlib\\axes\\_axes.py\u001B[0m in \u001B[0;36mplot\u001B[1;34m(self, scalex, scaley, data, *args, **kwargs)\u001B[0m\n\u001B[0;32m   1605\u001B[0m         \u001B[0mlines\u001B[0m \u001B[1;33m=\u001B[0m \u001B[1;33m[\u001B[0m\u001B[1;33m*\u001B[0m\u001B[0mself\u001B[0m\u001B[1;33m.\u001B[0m\u001B[0m_get_lines\u001B[0m\u001B[1;33m(\u001B[0m\u001B[1;33m*\u001B[0m\u001B[0margs\u001B[0m\u001B[1;33m,\u001B[0m \u001B[0mdata\u001B[0m\u001B[1;33m=\u001B[0m\u001B[0mdata\u001B[0m\u001B[1;33m,\u001B[0m \u001B[1;33m**\u001B[0m\u001B[0mkwargs\u001B[0m\u001B[1;33m)\u001B[0m\u001B[1;33m]\u001B[0m\u001B[1;33m\u001B[0m\u001B[1;33m\u001B[0m\u001B[0m\n\u001B[0;32m   1606\u001B[0m         \u001B[1;32mfor\u001B[0m \u001B[0mline\u001B[0m \u001B[1;32min\u001B[0m \u001B[0mlines\u001B[0m\u001B[1;33m:\u001B[0m\u001B[1;33m\u001B[0m\u001B[1;33m\u001B[0m\u001B[0m\n\u001B[1;32m-> 1607\u001B[1;33m             \u001B[0mself\u001B[0m\u001B[1;33m.\u001B[0m\u001B[0madd_line\u001B[0m\u001B[1;33m(\u001B[0m\u001B[0mline\u001B[0m\u001B[1;33m)\u001B[0m\u001B[1;33m\u001B[0m\u001B[1;33m\u001B[0m\u001B[0m\n\u001B[0m\u001B[0;32m   1608\u001B[0m         \u001B[0mself\u001B[0m\u001B[1;33m.\u001B[0m\u001B[0m_request_autoscale_view\u001B[0m\u001B[1;33m(\u001B[0m\u001B[0mscalex\u001B[0m\u001B[1;33m=\u001B[0m\u001B[0mscalex\u001B[0m\u001B[1;33m,\u001B[0m \u001B[0mscaley\u001B[0m\u001B[1;33m=\u001B[0m\u001B[0mscaley\u001B[0m\u001B[1;33m)\u001B[0m\u001B[1;33m\u001B[0m\u001B[1;33m\u001B[0m\u001B[0m\n\u001B[0;32m   1609\u001B[0m         \u001B[1;32mreturn\u001B[0m \u001B[0mlines\u001B[0m\u001B[1;33m\u001B[0m\u001B[1;33m\u001B[0m\u001B[0m\n",
      "\u001B[1;32m~\\anaconda3\\envs\\ml\\lib\\site-packages\\matplotlib\\axes\\_base.py\u001B[0m in \u001B[0;36madd_line\u001B[1;34m(self, line)\u001B[0m\n\u001B[0;32m   2099\u001B[0m             \u001B[0mline\u001B[0m\u001B[1;33m.\u001B[0m\u001B[0mset_clip_path\u001B[0m\u001B[1;33m(\u001B[0m\u001B[0mself\u001B[0m\u001B[1;33m.\u001B[0m\u001B[0mpatch\u001B[0m\u001B[1;33m)\u001B[0m\u001B[1;33m\u001B[0m\u001B[1;33m\u001B[0m\u001B[0m\n\u001B[0;32m   2100\u001B[0m \u001B[1;33m\u001B[0m\u001B[0m\n\u001B[1;32m-> 2101\u001B[1;33m         \u001B[0mself\u001B[0m\u001B[1;33m.\u001B[0m\u001B[0m_update_line_limits\u001B[0m\u001B[1;33m(\u001B[0m\u001B[0mline\u001B[0m\u001B[1;33m)\u001B[0m\u001B[1;33m\u001B[0m\u001B[1;33m\u001B[0m\u001B[0m\n\u001B[0m\u001B[0;32m   2102\u001B[0m         \u001B[1;32mif\u001B[0m \u001B[1;32mnot\u001B[0m \u001B[0mline\u001B[0m\u001B[1;33m.\u001B[0m\u001B[0mget_label\u001B[0m\u001B[1;33m(\u001B[0m\u001B[1;33m)\u001B[0m\u001B[1;33m:\u001B[0m\u001B[1;33m\u001B[0m\u001B[1;33m\u001B[0m\u001B[0m\n\u001B[0;32m   2103\u001B[0m             \u001B[0mline\u001B[0m\u001B[1;33m.\u001B[0m\u001B[0mset_label\u001B[0m\u001B[1;33m(\u001B[0m\u001B[1;34m'_line%d'\u001B[0m \u001B[1;33m%\u001B[0m \u001B[0mlen\u001B[0m\u001B[1;33m(\u001B[0m\u001B[0mself\u001B[0m\u001B[1;33m.\u001B[0m\u001B[0mlines\u001B[0m\u001B[1;33m)\u001B[0m\u001B[1;33m)\u001B[0m\u001B[1;33m\u001B[0m\u001B[1;33m\u001B[0m\u001B[0m\n",
      "\u001B[1;32m~\\anaconda3\\envs\\ml\\lib\\site-packages\\matplotlib\\axes\\_base.py\u001B[0m in \u001B[0;36m_update_line_limits\u001B[1;34m(self, line)\u001B[0m\n\u001B[0;32m   2121\u001B[0m         \u001B[0mFigures\u001B[0m \u001B[0mout\u001B[0m \u001B[0mthe\u001B[0m \u001B[0mdata\u001B[0m \u001B[0mlimit\u001B[0m \u001B[0mof\u001B[0m \u001B[0mthe\u001B[0m \u001B[0mgiven\u001B[0m \u001B[0mline\u001B[0m\u001B[1;33m,\u001B[0m \u001B[0mupdating\u001B[0m \u001B[0mself\u001B[0m\u001B[1;33m.\u001B[0m\u001B[0mdataLim\u001B[0m\u001B[1;33m.\u001B[0m\u001B[1;33m\u001B[0m\u001B[1;33m\u001B[0m\u001B[0m\n\u001B[0;32m   2122\u001B[0m         \"\"\"\n\u001B[1;32m-> 2123\u001B[1;33m         \u001B[0mpath\u001B[0m \u001B[1;33m=\u001B[0m \u001B[0mline\u001B[0m\u001B[1;33m.\u001B[0m\u001B[0mget_path\u001B[0m\u001B[1;33m(\u001B[0m\u001B[1;33m)\u001B[0m\u001B[1;33m\u001B[0m\u001B[1;33m\u001B[0m\u001B[0m\n\u001B[0m\u001B[0;32m   2124\u001B[0m         \u001B[1;32mif\u001B[0m \u001B[0mpath\u001B[0m\u001B[1;33m.\u001B[0m\u001B[0mvertices\u001B[0m\u001B[1;33m.\u001B[0m\u001B[0msize\u001B[0m \u001B[1;33m==\u001B[0m \u001B[1;36m0\u001B[0m\u001B[1;33m:\u001B[0m\u001B[1;33m\u001B[0m\u001B[1;33m\u001B[0m\u001B[0m\n\u001B[0;32m   2125\u001B[0m             \u001B[1;32mreturn\u001B[0m\u001B[1;33m\u001B[0m\u001B[1;33m\u001B[0m\u001B[0m\n",
      "\u001B[1;32m~\\anaconda3\\envs\\ml\\lib\\site-packages\\matplotlib\\lines.py\u001B[0m in \u001B[0;36mget_path\u001B[1;34m(self)\u001B[0m\n\u001B[0;32m   1020\u001B[0m         \"\"\"\n\u001B[0;32m   1021\u001B[0m         \u001B[1;32mif\u001B[0m \u001B[0mself\u001B[0m\u001B[1;33m.\u001B[0m\u001B[0m_invalidy\u001B[0m \u001B[1;32mor\u001B[0m \u001B[0mself\u001B[0m\u001B[1;33m.\u001B[0m\u001B[0m_invalidx\u001B[0m\u001B[1;33m:\u001B[0m\u001B[1;33m\u001B[0m\u001B[1;33m\u001B[0m\u001B[0m\n\u001B[1;32m-> 1022\u001B[1;33m             \u001B[0mself\u001B[0m\u001B[1;33m.\u001B[0m\u001B[0mrecache\u001B[0m\u001B[1;33m(\u001B[0m\u001B[1;33m)\u001B[0m\u001B[1;33m\u001B[0m\u001B[1;33m\u001B[0m\u001B[0m\n\u001B[0m\u001B[0;32m   1023\u001B[0m         \u001B[1;32mreturn\u001B[0m \u001B[0mself\u001B[0m\u001B[1;33m.\u001B[0m\u001B[0m_path\u001B[0m\u001B[1;33m\u001B[0m\u001B[1;33m\u001B[0m\u001B[0m\n\u001B[0;32m   1024\u001B[0m \u001B[1;33m\u001B[0m\u001B[0m\n",
      "\u001B[1;32m~\\anaconda3\\envs\\ml\\lib\\site-packages\\matplotlib\\lines.py\u001B[0m in \u001B[0;36mrecache\u001B[1;34m(self, always)\u001B[0m\n\u001B[0;32m    666\u001B[0m         \u001B[1;32mif\u001B[0m \u001B[0malways\u001B[0m \u001B[1;32mor\u001B[0m \u001B[0mself\u001B[0m\u001B[1;33m.\u001B[0m\u001B[0m_invalidy\u001B[0m\u001B[1;33m:\u001B[0m\u001B[1;33m\u001B[0m\u001B[1;33m\u001B[0m\u001B[0m\n\u001B[0;32m    667\u001B[0m             \u001B[0myconv\u001B[0m \u001B[1;33m=\u001B[0m \u001B[0mself\u001B[0m\u001B[1;33m.\u001B[0m\u001B[0mconvert_yunits\u001B[0m\u001B[1;33m(\u001B[0m\u001B[0mself\u001B[0m\u001B[1;33m.\u001B[0m\u001B[0m_yorig\u001B[0m\u001B[1;33m)\u001B[0m\u001B[1;33m\u001B[0m\u001B[1;33m\u001B[0m\u001B[0m\n\u001B[1;32m--> 668\u001B[1;33m             \u001B[0my\u001B[0m \u001B[1;33m=\u001B[0m \u001B[0m_to_unmasked_float_array\u001B[0m\u001B[1;33m(\u001B[0m\u001B[0myconv\u001B[0m\u001B[1;33m)\u001B[0m\u001B[1;33m.\u001B[0m\u001B[0mravel\u001B[0m\u001B[1;33m(\u001B[0m\u001B[1;33m)\u001B[0m\u001B[1;33m\u001B[0m\u001B[1;33m\u001B[0m\u001B[0m\n\u001B[0m\u001B[0;32m    669\u001B[0m         \u001B[1;32melse\u001B[0m\u001B[1;33m:\u001B[0m\u001B[1;33m\u001B[0m\u001B[1;33m\u001B[0m\u001B[0m\n\u001B[0;32m    670\u001B[0m             \u001B[0my\u001B[0m \u001B[1;33m=\u001B[0m \u001B[0mself\u001B[0m\u001B[1;33m.\u001B[0m\u001B[0m_y\u001B[0m\u001B[1;33m\u001B[0m\u001B[1;33m\u001B[0m\u001B[0m\n",
      "\u001B[1;32m~\\anaconda3\\envs\\ml\\lib\\site-packages\\matplotlib\\cbook\\__init__.py\u001B[0m in \u001B[0;36m_to_unmasked_float_array\u001B[1;34m(x)\u001B[0m\n\u001B[0;32m   1331\u001B[0m         \u001B[1;32mreturn\u001B[0m \u001B[0mnp\u001B[0m\u001B[1;33m.\u001B[0m\u001B[0mma\u001B[0m\u001B[1;33m.\u001B[0m\u001B[0masarray\u001B[0m\u001B[1;33m(\u001B[0m\u001B[0mx\u001B[0m\u001B[1;33m,\u001B[0m \u001B[0mfloat\u001B[0m\u001B[1;33m)\u001B[0m\u001B[1;33m.\u001B[0m\u001B[0mfilled\u001B[0m\u001B[1;33m(\u001B[0m\u001B[0mnp\u001B[0m\u001B[1;33m.\u001B[0m\u001B[0mnan\u001B[0m\u001B[1;33m)\u001B[0m\u001B[1;33m\u001B[0m\u001B[1;33m\u001B[0m\u001B[0m\n\u001B[0;32m   1332\u001B[0m     \u001B[1;32melse\u001B[0m\u001B[1;33m:\u001B[0m\u001B[1;33m\u001B[0m\u001B[1;33m\u001B[0m\u001B[0m\n\u001B[1;32m-> 1333\u001B[1;33m         \u001B[1;32mreturn\u001B[0m \u001B[0mnp\u001B[0m\u001B[1;33m.\u001B[0m\u001B[0masarray\u001B[0m\u001B[1;33m(\u001B[0m\u001B[0mx\u001B[0m\u001B[1;33m,\u001B[0m \u001B[0mfloat\u001B[0m\u001B[1;33m)\u001B[0m\u001B[1;33m\u001B[0m\u001B[1;33m\u001B[0m\u001B[0m\n\u001B[0m\u001B[0;32m   1334\u001B[0m \u001B[1;33m\u001B[0m\u001B[0m\n\u001B[0;32m   1335\u001B[0m \u001B[1;33m\u001B[0m\u001B[0m\n",
      "\u001B[1;31mTypeError\u001B[0m: float() argument must be a string or a number, not 'ellipsis'"
     ]
    },
    {
     "data": {
      "text/plain": "<Figure size 1080x648 with 6 Axes>",
      "image/png": "[encoded data removed]"
     },
     "metadata": {
      "needs_background": "light"
     },
     "output_type": "display_data"
    }
   ],
   "source": [
    "# plots\n",
    "\n",
    "fig, ax = plt.subplots(3, 2, figsize=(15,9))\n",
    "ax[0, 0].plot(...)\n",
    "ax[0, 0].grid()\n",
    "ax[0, 0].set_title('Amplitude')\n",
    "\n",
    "ax[0, 1].plot(...)\n",
    "ax[0, 1].grid()\n",
    "ax[0, 1].set_title('Phase')\n",
    "\n",
    "\n",
    "ax[1, 0].plot(...)\n",
    "ax[1, 0].grid()\n",
    "ax[1, 0].set_title('Amplitude')\n",
    "\n",
    "ax[1, 1].plot(...)\n",
    "ax[1, 1].grid()\n",
    "ax[1, 1].set_title('Phase')\n",
    "\n",
    "\n",
    "ax[2, 0].plot(...)\n",
    "ax[2, 0].grid()\n",
    "ax[2, 0].set_title('Amplitude')\n",
    "\n",
    "ax[2, 1].plot(...)\n",
    "ax[2, 1].grid()\n",
    "ax[2, 1].set_title('Phase')\n",
    "\n",
    "plt.tight_layout()\n",
    "\n"
   ]
  },
  {
   "cell_type": "markdown",
   "id": "7290db8c",
   "metadata": {},
   "source": [
    "When time domain signal e.g x[n], is converted into frequency domain X(f) via DFT, the resulting output is a complex. i.e. it has both amplitude and phase which are two parts of the spectrum of the signal. Oftentimes, signals may have the same amplitude spectrum but a different phase spectrum as in sine and cosine signal.\n",
    "\n",
    "It is also worth noting, because there are both positive and negative frequencies, the amplitude spectrum is plotted symmetrically and a special function numpy.fft.fftshift() should be used. Furthermore, to account for numerical errors, one should remove values < 1e-8 from the phase plots."
   ]
  },
  {
   "cell_type": "code",
   "execution_count": null,
   "id": "187ffb25",
   "metadata": {},
   "outputs": [],
   "source": [
    "# plots \n",
    "\n",
    "..."
   ]
  },
  {
   "cell_type": "markdown",
   "id": "8135ea6d",
   "metadata": {},
   "source": [
    "#### We can apply `iDFT()` already implemented above to change back from frequency to time domain."
   ]
  },
  {
   "cell_type": "code",
   "execution_count": null,
   "id": "e2177200",
   "metadata": {},
   "outputs": [],
   "source": [
    "s3_recovered = np.real(iDFT(S3))\n",
    "\n",
    "# plot\n",
    "\n",
    "..."
   ]
  },
  {
   "cell_type": "code",
   "execution_count": null,
   "id": "0948276c",
   "metadata": {},
   "outputs": [],
   "source": []
  },
  {
   "cell_type": "markdown",
   "id": "e5c5d916",
   "metadata": {},
   "source": [
    "## 2 - Convolution\n",
    "\n",
    "The convolution operation in signal processing expresses the amount of overlap of one signal shifted over another. As notation, we adopt commonly used representations such as `y[n]` as result or output of convolution, `x[n]` as the signal and `h[n]` as impulse response of the system in which `x[n]` is fed into.\n",
    "\n",
    "#### In this part, we will only implement linear convolutions of discrete signals as discussed in the lecture.\n",
    "\n",
    "Note: There exist `linear` and `circular` convolutions, but for sake of this tutorial, we will focus on implementing linear convolution. You are encouraged to look up on circular convolution on their own free will.\n",
    "\n",
    "You are also encouraged to use the hints provided to solve the task. Please note, this implementation is not optimized for run time, hence more time efficient implementations exist as that of [np.convolve()](https://numpy.org/doc/stable/reference/generated/numpy.convolve.html) and [scipy.signal.convolve()](https://docs.scipy.org/doc/scipy/reference/generated/scipy.signal.convolve.html)"
   ]
  },
  {
   "cell_type": "markdown",
   "id": "a969f628",
   "metadata": {},
   "source": [
    "$$y[n] = x[n] * h[n] = \\sum_{k = - \\infty}^{\\infty} x[k] . h[n - k] $$"
   ]
  },
  {
   "cell_type": "markdown",
   "id": "f12d4ecb",
   "metadata": {},
   "source": [
    "In the following code cell, write a function to compute linear convolution `lin_convolution(x, h)` that takes two inputs; signal `x[n]` and impulse response `h[n]` and computes and returns the convolved signal `y[n]`. In this case, we will also only explore the mode where one of the signals slide over the other completely, i.e., `mode = full` in [np.convolve(mode='full')](https://numpy.org/doc/stable/reference/generated/numpy.convolve.html) implementations.\n",
    "\n",
    "The following animations below will be used to illustrate the modes of the convolution. One shows the digital and one the continous convolution.\n",
    "\n",
    "Sources \n",
    "- [Digital signal](https://e2eml.school/convolution_one_d.html)\n",
    "- [Continous signal](https://commons.wikimedia.org/wiki/File:Convolution_of_box_signal_with_itself2.gif)\n",
    "\n",
    "\n",
    "#### With this, you are encouraged to further the implementation to achieve the other results as in `mode = same` and `mode = valid` as in Numpy"
   ]
  },
  {
   "cell_type": "markdown",
   "id": "1c843d4d",
   "metadata": {},
   "source": [
    "![Convolution digital signal](convolution_anime.gif \"digital signal\")"
   ]
  },
  {
   "cell_type": "markdown",
   "id": "2d82eea3",
   "metadata": {},
   "source": [
    "![Convolution continous signal](convolution_of_box_signal_with_itself2.gif \"continous signal\")"
   ]
  },
  {
   "cell_type": "code",
   "execution_count": null,
   "id": "fe0b84d8",
   "metadata": {},
   "outputs": [],
   "source": []
  },
  {
   "cell_type": "code",
   "execution_count": null,
   "id": "2b024c22",
   "metadata": {},
   "outputs": [],
   "source": [
    "def lin_convolution(x, h, overlap=bool):\n",
    "    # determine the size of convolution output\n",
    "    N = ...\n",
    "    \n",
    "    # initialize array of zeros for the output signal\n",
    "    y = np.zeros(...)\n",
    "    \n",
    "    # determine number of zeros required to pad both `x[t]` and `h[t]`, i and j respectively\n",
    "    i,j = ..., ...\n",
    "    \n",
    "    # zero-pad x[t] and h[t] to the same size\n",
    "    x_padded = ...\n",
    "    h_padded = ...\n",
    "\n",
    "    \n",
    "    for n in range(N):\n",
    "        for k in range(N):\n",
    "            if n >= k:\n",
    "                 y[n] += ...\n",
    "    \n",
    "                    \n",
    "    return y"
   ]
  },
  {
   "cell_type": "markdown",
   "id": "3576283d",
   "metadata": {},
   "source": [
    "Next, we will test `lin_convolution(x, h)` with some signals and compare the results with that of numpy implementation.\n",
    "\n",
    "For sake of uniformity, we will take `x[n]` = [0, 1, 2, 1] and `h_[t]` = [2, 2, 1, 1].\n",
    "\n",
    "We would expect our function to return `y[n]` = [2, 6, 5, 5, 4, 1, 1] which is the same as using `np.convolve(x, h, mode = 'full')`. \n",
    "\n",
    "After we confirmed our funtion is working properly, we can then try out other various signals of various lengths."
   ]
  },
  {
   "cell_type": "code",
   "execution_count": null,
   "id": "f97e1810",
   "metadata": {},
   "outputs": [],
   "source": [
    "# test cells for the `lin_convolution()`\n",
    "\n",
    "x = [1, 2, 0, 1]\n",
    "h = [2, 2, 1, 1]\n",
    "\n",
    "y = ...  # call the written function here on x and h \n",
    "\n",
    "y_np = np.convolve(x, h, mode = 'full')"
   ]
  },
  {
   "cell_type": "code",
   "execution_count": null,
   "id": "0cdc687f",
   "metadata": {},
   "outputs": [],
   "source": [
    "# plots\n",
    "\n",
    "# For adequate visualization of results, we will use the stem plot from matplotlib \n",
    "\n",
    "fig, ax = plt.subplots(1, 2, figsize = (12, 4))\n",
    "ax[0].stem(...)\n",
    "ax[0].set_title('Implemented linear convolution')\n",
    "ax[0].set_xlabel('n')\n",
    "ax[0].set_ylabel('y[n]', rotation=60)\n",
    "ax[0].grid()\n",
    "\n",
    "ax[1].stem(...)\n",
    "ax[1].set_title('Numpy implementation')\n",
    "ax[1].set_xlabel('n')\n",
    "ax[1].set_ylabel('$y_{np}[n]$', rotation=60)\n",
    "ax[1].grid()\n",
    "plt.tight_layout()"
   ]
  },
  {
   "cell_type": "code",
   "execution_count": null,
   "id": "a29b065d",
   "metadata": {},
   "outputs": [],
   "source": []
  },
  {
   "cell_type": "markdown",
   "id": "d0979e31",
   "metadata": {},
   "source": [
    "### Conclusions\n",
    "\n",
    "We explored Discrete Fourier Transform (DFT) and convolution theorem in this tutorial. You are encouraged to look out other use cases to cement your understanding of those concepts. Below are some bonus tasks for your practice."
   ]
  },
  {
   "cell_type": "code",
   "execution_count": null,
   "id": "139fb054",
   "metadata": {},
   "outputs": [],
   "source": []
  },
  {
   "cell_type": "markdown",
   "id": "259a2b0d",
   "metadata": {},
   "source": [
    "## Bonus tasks\n",
    "\n",
    "These tasks are given for more hands-on engagement of students. There will be no solutions or grading (i.e., they are only for students to explore for leisure).\n",
    "\n",
    "\n",
    "1. Show that the convolution operation fulfills the following properties\n",
    " - Commutative i.e., $\\quad x[n] * h[n] \\quad = \\quad h[n] * x[n]$ \n",
    "\n",
    " - Associative i.e., $\\quad (x_{1}[n] * h[n]) \\quad * x_{2}[n] \\quad = \\quad x_{1}[n] \\quad * (h[n] * x_{2}[n])$\n",
    " \n",
    " - Derrivative i.e., $\\quad y[n] = x[n] * h[n]$\n",
    " \n",
    " $\\quad\\quad\\quad\\quad\\quad\\quad$ $\\frac{dy[n]}{dn} \\quad = \\quad \\frac{dx[n]}{dn} * h[n] \\quad = \\quad x[n] * \\frac{dh[n]}{dn} $.\n",
    "\n",
    "\n",
    "\n",
    "2. Show that convolution in time domain is same as multiplication in frequency domain\n",
    " \n",
    " $$x[n] * h[n] = iDFT\\left( X[k] . H[k]\\right)$$\n",
    " \n",
    " where `x[n]` and `h[n]` and signal `x` and impulse `h` in time domain\n",
    " \n",
    "     and `X[k]` and `H[k]` are the spectral domain of `x` and `h` respectively.\n",
    "\n",
    "\n",
    "     \n",
    "3. Let $x[n] = \\sum\\limits_{k\\in \\{10, 50, 100, 150, 200\\}} \\cos(2\\pi \\frac{k}{N} .n)$ with $n \\in [0, 999]$ and sampling frequency $f_s = 500$Hz. \n",
    "\n",
    "> Plot $x[n]$, its frequency spectrum $|X(f)|$, and $\\angle X(f)$. "
   ]
  },
  {
   "cell_type": "code",
   "execution_count": null,
   "id": "709ffc31",
   "metadata": {},
   "outputs": [],
   "source": []
  },
  {
   "cell_type": "code",
   "execution_count": null,
   "id": "fe2c28bb",
   "metadata": {},
   "outputs": [],
   "source": []
  }
 ],
 "metadata": {
  "kernelspec": {
   "display_name": "Python 3 (ipykernel)",
   "language": "python",
   "name": "python3"
  },
  "language_info": {
   "codemirror_mode": {
    "name": "ipython",
    "version": 3
   },
   "file_extension": ".py",
   "mimetype": "text/x-python",
   "name": "python",
   "nbconvert_exporter": "python",
   "pygments_lexer": "ipython3",
   "version": "3.9.13"
  }
 },
 "nbformat": 4,
 "nbformat_minor": 5
}
