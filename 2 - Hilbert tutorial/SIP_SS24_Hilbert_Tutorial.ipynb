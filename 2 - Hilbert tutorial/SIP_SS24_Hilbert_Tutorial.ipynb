{
 "cells": [
  {
   "cell_type": "markdown",
   "metadata": {},
   "source": [
    "# Signal and Image Processing (SIP_SS24)\n",
    "\n",
    "###  Hilbert Tutorial"
   ]
  },
  {
   "cell_type": "markdown",
   "metadata": {},
   "source": [
    "### Import packages"
   ]
  },
  {
   "cell_type": "code",
   "execution_count": null,
   "metadata": {},
   "outputs": [],
   "source": [
    "import numpy as np\n",
    "import matplotlib.pyplot as plt\n",
    "import matplotlib.cm as cm"
   ]
  },
  {
   "cell_type": "markdown",
   "metadata": {},
   "source": [
    "## Analytic Signal"
   ]
  },
  {
   "cell_type": "markdown",
   "metadata": {},
   "source": [
    "### Define plot function"
   ]
  },
  {
   "cell_type": "code",
   "execution_count": 1,
   "metadata": {},
   "outputs": [],
   "source": [
    "# Function for plotting the signal, with parameters x (signal) and t (time array)\n",
    "def plot_x(x,t):\n",
    "    \n",
    "    # Define figure size\n",
    "    plt.figure(figsize=(15,5))\n",
    "    # Plot the signal x in seconds\n",
    "    plt.plot(t,x)\n",
    "    # Label the axes\n",
    "    plt.xlabel('Time (s)')\n",
    "    plt.ylabel('Amplitude (a.u.)')\n",
    "    # Show grid in plot\n",
    "    plt.grid()\n",
    "    # Show the plot\n",
    "    plt.show()\n",
    "    "
   ]
  },
  {
   "cell_type": "markdown",
   "metadata": {},
   "source": [
    "### Generate a sine signal and plot it"
   ]
  },
  {
   "cell_type": "code",
   "execution_count": null,
   "metadata": {},
   "outputs": [],
   "source": [
    "# signal length (s)\n",
    "T = 1\n",
    "# sampling frequency in Hz\n",
    "fs = 1000\n",
    "# signal frequency in Hz\n",
    "f = 1\n",
    "\n",
    "\n",
    "\n",
    "'''\n",
    "TO-DO: define sine signal x with frequency f, length T and sampling frequency fs\n",
    "'''\n",
    "# signal length (samples)\n",
    "N = \n",
    "# sample indices array\n",
    "n = \n",
    "# sine signal\n",
    "x = "
   ]
  },
  {
   "cell_type": "code",
   "execution_count": null,
   "metadata": {},
   "outputs": [],
   "source": [
    "'''\n",
    "TO-DO: define time array t correctly; what are our discrete steps n = 0,...,N in terms of time?\n",
    "'''\n",
    "\n",
    "# Define time array\n",
    "t = \n",
    "\n",
    "# Plot the signal x\n",
    "plot_x(x,t)"
   ]
  },
  {
   "cell_type": "markdown",
   "metadata": {},
   "source": [
    "### Calculate the analytic signal z"
   ]
  },
  {
   "cell_type": "code",
   "execution_count": null,
   "metadata": {},
   "outputs": [],
   "source": [
    "def analytic_signal(x):\n",
    "        \n",
    "    '''\n",
    "    TO-DO: Apply Hilbert transform (see steps in lecture note)\n",
    "    '''\n",
    "    \n",
    "    return(z)"
   ]
  },
  {
   "cell_type": "code",
   "execution_count": null,
   "metadata": {},
   "outputs": [],
   "source": [
    "z = analytic_signal(x)"
   ]
  },
  {
   "cell_type": "markdown",
   "metadata": {},
   "source": [
    "### Calculate and plot instantaneous amplitude, phase and frequency"
   ]
  },
  {
   "cell_type": "code",
   "execution_count": null,
   "metadata": {},
   "outputs": [],
   "source": [
    "def plot_z(z, t, fs, freq_lim = None):\n",
    "    \n",
    "    # Calculate instantaneous amplitude, and real and imaginary part of z\n",
    "    real_z = \n",
    "    imag_z = \n",
    "    inst_amp = \n",
    "    '''    \n",
    "    TO-DO: calculate real_z, imag_z and inst_amp\n",
    "    '''\n",
    "    \n",
    "    # Calculate instantaneous phase\n",
    "    inst_phase = \n",
    "    '''\n",
    "    TO-DO: calculate inst_phase (replace RHS above)\n",
    "    '''\n",
    "    \n",
    "    # Calculate instantaneous frequency\n",
    "    inst_freq = \n",
    "    '''\n",
    "    TO-DO: calculate inst_freq (convert from radians in Hz)\n",
    "    '''\n",
    "    \n",
    "    \n",
    "    # Define figure size\n",
    "    plt.figure(figsize=(15,10))\n",
    "    \n",
    "    # First Subplot with instantaneous amplitude, real and imaginary part of z\n",
    "    plt.subplot(3,1,1)\n",
    "    plt.plot(t, real_z, label='real')\n",
    "    plt.plot(t, imag_z, label='imag')\n",
    "    plt.plot(t, inst_amp, label='inst amp')\n",
    "    plt.xlabel('Time (s)')\n",
    "    plt.ylabel('Amplitude (a.u.)')\n",
    "    plt.legend()\n",
    "    plt.grid()\n",
    "    \n",
    "    # Second Subplot with instantaneous phase\n",
    "    plt.subplot(3,1,2)\n",
    "    plt.plot(t, inst_phase, label='inst phase', color='red')\n",
    "    plt.xlabel('Time (s)')\n",
    "    plt.ylabel('Amplitude (a.u.)')\n",
    "    plt.legend()\n",
    "    plt.grid()\n",
    "    \n",
    "    # Third Subplot with instantaneous frequency\n",
    "    plt.subplot(3,1,3)\n",
    "    plt.plot(t[1:], inst_freq, label='inst freq', color='purple')\n",
    "    # Set y-lim to avoid rounding errors and computational artefacts\n",
    "    if freq_lim is not None:\n",
    "        plt.ylim(freq_lim)\n",
    "    plt.xlabel('Time (s)')\n",
    "    plt.ylabel('Amplitude (a.u.)')\n",
    "    plt.legend()\n",
    "    plt.grid()"
   ]
  },
  {
   "cell_type": "markdown",
   "metadata": {},
   "source": [
    "### Plot analytic signal z in time domain"
   ]
  },
  {
   "cell_type": "code",
   "execution_count": null,
   "metadata": {},
   "outputs": [],
   "source": [
    "# Plot the instantaneous amplitude, phase and frequency  \n",
    "plot_z(z, t, fs, [0,5])"
   ]
  },
  {
   "cell_type": "markdown",
   "metadata": {},
   "source": [
    "### Plot analytic signal z in complex plane"
   ]
  },
  {
   "cell_type": "code",
   "execution_count": null,
   "metadata": {},
   "outputs": [],
   "source": [
    "def scatter_z(z):\n",
    "    colors = cm.rainbow(np.linspace(0,1,len(z)))\n",
    "    plt.figure(figsize=(10,10))\n",
    "    plt.axhline(0, c='k')\n",
    "    plt.axvline(0, c='k')\n",
    "    plt.scatter(np.real(z), np.imag(z), color=colors)\n",
    "    plt.xlabel('real(z)')\n",
    "    plt.ylabel('imag(z)')\n",
    "    plt.grid()\n",
    "    plt.show()"
   ]
  },
  {
   "cell_type": "code",
   "execution_count": null,
   "metadata": {},
   "outputs": [],
   "source": [
    "# Scatter plot\n",
    "scatter_z(z)\n",
    "\n",
    "'''\n",
    "The signal starts at color purple\n",
    "'''"
   ]
  },
  {
   "cell_type": "markdown",
   "metadata": {},
   "source": [
    "### Signal with 2 frequency components"
   ]
  },
  {
   "cell_type": "code",
   "execution_count": null,
   "metadata": {},
   "outputs": [],
   "source": [
    "#Two frequency components\n",
    "f1 = 7\n",
    "f2 = 3\n",
    "\n",
    "# Sum of two sine waves\n",
    "x2 = \n",
    "'''\n",
    "TO-DO: define sine signal x2 with two frequency components f1 and f2\n",
    "'''\n",
    "\n",
    "# Plot the signal\n",
    "plot_x(x2,t)"
   ]
  },
  {
   "cell_type": "markdown",
   "metadata": {},
   "source": [
    "### Calculate and plot instantantaneous amplitude, phase and frequency of new signal"
   ]
  },
  {
   "cell_type": "code",
   "execution_count": null,
   "metadata": {},
   "outputs": [],
   "source": [
    "# Calculate z2\n",
    "z2 = analytic_signal(x2)\n",
    "\n",
    "# Plot inst ampl, phase and freq\n",
    "plot_z(z2,t,fs,[0,10])"
   ]
  },
  {
   "cell_type": "markdown",
   "metadata": {},
   "source": [
    "### Show complex plane"
   ]
  },
  {
   "cell_type": "code",
   "execution_count": null,
   "metadata": {},
   "outputs": [],
   "source": [
    "scatter_z(z2)"
   ]
  },
  {
   "cell_type": "markdown",
   "metadata": {},
   "source": [
    "### More complex signal"
   ]
  },
  {
   "cell_type": "code",
   "execution_count": null,
   "metadata": {},
   "outputs": [],
   "source": [
    "# Six frequency components\n",
    "freqs = [0.3,1.9,3,11,17,31]\n",
    "\n",
    "# Sum up the individual freq. components\n",
    "x3 = np.zeros(N)\n",
    "for f in freqs:\n",
    "    x3 += \n",
    "    '''\n",
    "    TO-DO: define sine signal x3 with multiple frequency components\n",
    "    '''\n",
    "\n",
    "# Plot the new signal\n",
    "plot_x(x3,t)"
   ]
  },
  {
   "cell_type": "markdown",
   "metadata": {},
   "source": [
    "### Calculate and plot instantantaneous amplitude, phase and frequency of new signal"
   ]
  },
  {
   "cell_type": "code",
   "execution_count": null,
   "metadata": {},
   "outputs": [],
   "source": [
    "z3 = analytic_signal(x3)\n",
    "plot_z(z3,t,fs,[-150,150])"
   ]
  },
  {
   "cell_type": "markdown",
   "metadata": {},
   "source": [
    "### Show complex plane of new signal"
   ]
  },
  {
   "cell_type": "code",
   "execution_count": null,
   "metadata": {},
   "outputs": [],
   "source": [
    "scatter_z(z3)"
   ]
  },
  {
   "cell_type": "markdown",
   "metadata": {},
   "source": [
    "## Amplitude and Frequency Modulation"
   ]
  },
  {
   "cell_type": "markdown",
   "metadata": {},
   "source": [
    "### Amplitude modulated signal"
   ]
  },
  {
   "cell_type": "code",
   "execution_count": null,
   "metadata": {},
   "outputs": [],
   "source": [
    "# amplitude modulated signal: combination of two signals\n",
    "\n",
    "# modulator: signal we want to transmit (acutal interesting signal)\n",
    "fm = 0.5\n",
    "\n",
    "'''\n",
    "Try both signals xm\n",
    "'''\n",
    "xm = np.sin(2*np.pi*fm/fs*n)\n",
    "#xm = np.arange(N)/N \n",
    "\n",
    "plot_x(xm,t)"
   ]
  },
  {
   "cell_type": "code",
   "execution_count": null,
   "metadata": {},
   "outputs": [],
   "source": [
    "# carrier: signal, that carries our interesting signal (transfer interesting signal onto)\n",
    "fc = 30\n",
    "xc = \n",
    "'''\n",
    "TO-DO: Define carrier signal xc\n",
    "'''\n",
    "\n",
    "plot_x(xc,t)"
   ]
  },
  {
   "cell_type": "code",
   "execution_count": null,
   "metadata": {},
   "outputs": [],
   "source": [
    "# Amplitdue modulated signal\n",
    "x_am = \n",
    "'''\n",
    "TO-DO: Calculate amplitude modulated signal x_am\n",
    "'''\n",
    "\n",
    "plot_x(x_am,t)"
   ]
  },
  {
   "cell_type": "code",
   "execution_count": null,
   "metadata": {},
   "outputs": [],
   "source": [
    "z_am = analytic_signal(x_am)\n",
    "plot_z(z_am, t, fs, [-20,100])"
   ]
  },
  {
   "cell_type": "code",
   "execution_count": null,
   "metadata": {},
   "outputs": [],
   "source": [
    "scatter_z(z_am)"
   ]
  },
  {
   "cell_type": "markdown",
   "metadata": {},
   "source": [
    "### Frequency Modulation"
   ]
  },
  {
   "cell_type": "code",
   "execution_count": null,
   "metadata": {},
   "outputs": [],
   "source": [
    "# frequency modulated signal\n",
    "\n",
    "# modulator\n",
    "fm = 4\n",
    "\n",
    "'''\n",
    "Try both signals xm\n",
    "'''\n",
    "# xm = np.zeros(N)\n",
    "# xm[0:250] = np.arange(250)/250\n",
    "# xm[250:750] = np.arange(250,-250,-1)/250\n",
    "# xm[750:] = np.arange(-250,0)/250\n",
    "\n",
    "xm = np.sin(2*np.pi*fm/fs*n)\n",
    "\n",
    "# carrier\n",
    "fc = 50\n",
    "xc = \n",
    "'''\n",
    "TO-DO: Define carrier signal xc\n",
    "'''\n",
    "\n",
    "# modulation factor\n",
    "mf = 1\n",
    "\n",
    "# add modulator signal to phase of carrier signal\n",
    "x_fm = \n",
    "'''\n",
    "TO-DO: Calculate frequency modulated signal (note that you now add the modulater signal to the phase)\n",
    "'''\n",
    "\n",
    "# Modulator signal\n",
    "plot_x(xm,t)\n",
    "# Carrier signal\n",
    "plot_x(xc,t)\n",
    "\n",
    "# Frequncy modulated signal\n",
    "plot_x(x_fm,t)"
   ]
  },
  {
   "cell_type": "code",
   "execution_count": null,
   "metadata": {},
   "outputs": [],
   "source": [
    "z_fm = analytic_signal(x_fm)\n",
    "plot_z(z_fm,t,fs,[20,80])"
   ]
  },
  {
   "cell_type": "markdown",
   "metadata": {},
   "source": [
    "### Demodulate signal"
   ]
  },
  {
   "cell_type": "code",
   "execution_count": null,
   "metadata": {},
   "outputs": [],
   "source": [
    "# Calculate inst. frequency\n",
    "'''\n",
    "TO-DO: Calculate inst. frequency inst_freq with unwrap\n",
    "'''\n",
    "# Demodulate: integral of inst freq\n",
    "'''\n",
    "TO-DO: Calculate integral of inst frequency (modulator factor!)\n",
    "'''\n",
    "xm_demod = \n",
    "\n",
    "plot_x(xm_demod,t[1:])"
   ]
  },
  {
   "cell_type": "code",
   "execution_count": null,
   "metadata": {},
   "outputs": [],
   "source": [
    "scatter_z(z_fm)"
   ]
  },
  {
   "cell_type": "code",
   "execution_count": null,
   "metadata": {},
   "outputs": [],
   "source": []
  }
 ],
 "metadata": {
  "kernelspec": {
   "display_name": "Python 3 (ipykernel)",
   "language": "python",
   "name": "python3"
  },
  "language_info": {
   "codemirror_mode": {
    "name": "ipython",
    "version": 3
   },
   "file_extension": ".py",
   "mimetype": "text/x-python",
   "name": "python",
   "nbconvert_exporter": "python",
   "pygments_lexer": "ipython3",
   "version": "3.11.4"
  }
 },
 "nbformat": 4,
 "nbformat_minor": 4
}
